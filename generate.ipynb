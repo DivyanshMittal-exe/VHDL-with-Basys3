{
 "cells": [
  {
   "cell_type": "code",
   "execution_count": 1,
   "metadata": {},
   "outputs": [],
   "source": [
    "# with open(\"file.mif\",'r') as f:\n",
    "#     data = f.readlines()\n",
    "    \n",
    "# def twos(val_str, bytes):\n",
    "#     import sys\n",
    "#     val = int(val_str, 2)\n",
    "#     b = val.to_bytes(bytes, byteorder=sys.byteorder, signed=False)                                                          \n",
    "#     return int.from_bytes(b, byteorder=sys.byteorder, signed=True)\n",
    "# # print(data)\n",
    "\n",
    "# for id,ele in enumerate(data):\n",
    "#     ele.strip(\"\\n\")\n",
    "#     data[id] = twos(ele,1)\n",
    "    \n",
    "# print(data[:10])"
   ]
  },
  {
   "cell_type": "code",
   "execution_count": 2,
   "metadata": {},
   "outputs": [],
   "source": [
    "# img = data[:784]\n",
    "# wl1 = data[1024:51200]\n",
    "# b1 = data[51200:51264]\n",
    "# wl2 = data[51264:51904]\n",
    "# b2 = data[51904:51914]"
   ]
  },
  {
   "cell_type": "code",
   "execution_count": 3,
   "metadata": {},
   "outputs": [],
   "source": [
    "import numpy as np\n",
    "# wl1 = np.reshape(wl1,(64,784))\n",
    "# wl2 = np.reshape(wl2,(10,64))\n"
   ]
  },
  {
   "cell_type": "code",
   "execution_count": 4,
   "metadata": {},
   "outputs": [],
   "source": [
    "# for row in wl1:\n",
    "#     accum = 0\n",
    "#     for img_ele,wt_ele in zip(img,row):\n",
    "#         accum += img_ele*wt_ele"
   ]
  },
  {
   "cell_type": "code",
   "execution_count": 5,
   "metadata": {},
   "outputs": [],
   "source": [
    "from mlxtend.data import mnist_data\n",
    "X, y = mnist_data()"
   ]
  },
  {
   "cell_type": "code",
   "execution_count": 6,
   "metadata": {},
   "outputs": [
    {
     "name": "stdout",
     "output_type": "stream",
     "text": [
      "1200\n"
     ]
    }
   ],
   "source": [
    "import random\n",
    "\n",
    "index  = random.randint(0,10000) % len(X)\n",
    "print(index)"
   ]
  },
  {
   "cell_type": "code",
   "execution_count": 7,
   "metadata": {},
   "outputs": [
    {
     "name": "stdout",
     "output_type": "stream",
     "text": [
      "Image of 2\n"
     ]
    }
   ],
   "source": [
    "a = X[index]\n",
    "print(f\"Image of {y[index]}\")\n",
    "a = a.flatten()"
   ]
  },
  {
   "cell_type": "code",
   "execution_count": 8,
   "metadata": {},
   "outputs": [],
   "source": [
    "a = ['{0:08b}'.format(int(e)) for e in a]"
   ]
  },
  {
   "cell_type": "code",
   "execution_count": 9,
   "metadata": {},
   "outputs": [],
   "source": [
    "# print(a)"
   ]
  },
  {
   "cell_type": "code",
   "execution_count": 10,
   "metadata": {},
   "outputs": [],
   "source": [
    "with open(f\"file_{y[index]}.mif\", 'w') as f:\n",
    "    with open(\"weights_bias.mif\") as w:\n",
    "        for e in a:\n",
    "            f.write(e)\n",
    "            f.write(\"\\n\")\n",
    "        \n",
    "        for i in range(784,1024):\n",
    "            f.write(\"00000000\\n\")\n",
    "        \n",
    "        l = w.readlines()\n",
    "        f.writelines(l)"
   ]
  }
 ],
 "metadata": {
  "kernelspec": {
   "display_name": "Python 3.10.4 64-bit",
   "language": "python",
   "name": "python3"
  },
  "language_info": {
   "codemirror_mode": {
    "name": "ipython",
    "version": 3
   },
   "file_extension": ".py",
   "mimetype": "text/x-python",
   "name": "python",
   "nbconvert_exporter": "python",
   "pygments_lexer": "ipython3",
   "version": "3.10.4"
  },
  "orig_nbformat": 4,
  "vscode": {
   "interpreter": {
    "hash": "369f2c481f4da34e4445cda3fffd2e751bd1c4d706f27375911949ba6bb62e1c"
   }
  }
 },
 "nbformat": 4,
 "nbformat_minor": 2
}
