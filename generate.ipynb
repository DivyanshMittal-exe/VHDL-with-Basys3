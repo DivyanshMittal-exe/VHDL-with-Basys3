{
 "cells": [
  {
   "cell_type": "code",
   "execution_count": 1,
   "metadata": {},
   "outputs": [],
   "source": [
    "# with open(\"file.mif\",'r') as f:\n",
    "#     data = f.readlines()\n",
    "    \n",
    "# def twos(val_str, bytes):\n",
    "#     import sys\n",
    "#     val = int(val_str, 2)\n",
    "#     b = val.to_bytes(bytes, byteorder=sys.byteorder, signed=False)                                                          \n",
    "#     return int.from_bytes(b, byteorder=sys.byteorder, signed=True)\n",
    "# # print(data)\n",
    "\n",
    "# for id,ele in enumerate(data):\n",
    "#     ele.strip(\"\\n\")\n",
    "#     data[id] = twos(ele,1)\n",
    "    \n",
    "# print(data[:10])"
   ]
  },
  {
   "cell_type": "code",
   "execution_count": 2,
   "metadata": {},
   "outputs": [],
   "source": [
    "# img = data[:784]\n",
    "# wl1 = data[1024:51200]\n",
    "# b1 = data[51200:51264]\n",
    "# wl2 = data[51264:51904]\n",
    "# b2 = data[51904:51914]"
   ]
  },
  {
   "cell_type": "code",
   "execution_count": 3,
   "metadata": {},
   "outputs": [],
   "source": [
    "import numpy as np\n",
    "# wl1 = np.reshape(wl1,(64,784))\n",
    "# wl2 = np.reshape(wl2,(10,64))\n"
   ]
  },
  {
   "cell_type": "code",
   "execution_count": 4,
   "metadata": {},
   "outputs": [],
   "source": [
    "# for row in wl1:\n",
    "#     accum = 0\n",
    "#     for img_ele,wt_ele in zip(img,row):\n",
    "#         accum += img_ele*wt_ele"
   ]
  },
  {
   "cell_type": "code",
   "execution_count": 5,
   "metadata": {},
   "outputs": [
    {
     "ename": "KeyboardInterrupt",
     "evalue": "",
     "output_type": "error",
     "traceback": [
      "\u001b[1;31m---------------------------------------------------------------------------\u001b[0m",
      "\u001b[1;31mKeyboardInterrupt\u001b[0m                         Traceback (most recent call last)",
      "\u001b[1;32mf:\\COL215\\Main_Files\\generate.ipynb Cell 5\u001b[0m in \u001b[0;36m<cell line: 2>\u001b[1;34m()\u001b[0m\n\u001b[0;32m      <a href='vscode-notebook-cell:/f%3A/COL215/Main_Files/generate.ipynb#W4sZmlsZQ%3D%3D?line=0'>1</a>\u001b[0m \u001b[39mfrom\u001b[39;00m \u001b[39mmlxtend\u001b[39;00m\u001b[39m.\u001b[39;00m\u001b[39mdata\u001b[39;00m \u001b[39mimport\u001b[39;00m mnist_data\n\u001b[1;32m----> <a href='vscode-notebook-cell:/f%3A/COL215/Main_Files/generate.ipynb#W4sZmlsZQ%3D%3D?line=1'>2</a>\u001b[0m X, y \u001b[39m=\u001b[39m mnist_data()\n",
      "File \u001b[1;32mc:\\Python310\\lib\\site-packages\\mlxtend\\data\\mnist.py:38\u001b[0m, in \u001b[0;36mmnist_data\u001b[1;34m()\u001b[0m\n\u001b[0;32m     36\u001b[0m tmp \u001b[39m=\u001b[39m np\u001b[39m.\u001b[39mgenfromtxt(fname\u001b[39m=\u001b[39mDATA_PATH, delimiter\u001b[39m=\u001b[39m\u001b[39m\"\u001b[39m\u001b[39m,\u001b[39m\u001b[39m\"\u001b[39m)\n\u001b[0;32m     37\u001b[0m X, y \u001b[39m=\u001b[39m tmp[:, :\u001b[39m-\u001b[39m\u001b[39m1\u001b[39m], tmp[:, \u001b[39m-\u001b[39m\u001b[39m1\u001b[39m]\n\u001b[1;32m---> 38\u001b[0m y \u001b[39m=\u001b[39m y\u001b[39m.\u001b[39;49mastype(\u001b[39mint\u001b[39;49m)\n\u001b[0;32m     39\u001b[0m \u001b[39mreturn\u001b[39;00m X, y\n",
      "\u001b[1;31mKeyboardInterrupt\u001b[0m: "
     ]
    }
   ],
   "source": [
    "from mlxtend.data import mnist_data\n",
    "X, y = mnist_data()"
   ]
  },
  {
   "cell_type": "code",
   "execution_count": null,
   "metadata": {},
   "outputs": [
    {
     "name": "stdout",
     "output_type": "stream",
     "text": [
      "3765\n"
     ]
    }
   ],
   "source": [
    "import random\n",
    "\n",
    "index  = random.randint(0,10000) % len(X)\n",
    "print(index)"
   ]
  },
  {
   "cell_type": "code",
   "execution_count": null,
   "metadata": {},
   "outputs": [
    {
     "name": "stdout",
     "output_type": "stream",
     "text": [
      "Image of 7\n"
     ]
    }
   ],
   "source": [
    "a = X[index]\n",
    "print(f\"Image of {y[index]}\")\n",
    "a = a.flatten()"
   ]
  },
  {
   "cell_type": "code",
   "execution_count": null,
   "metadata": {},
   "outputs": [],
   "source": [
    "a = ['{0:08b}'.format(int(e)) for e in a]"
   ]
  },
  {
   "cell_type": "code",
   "execution_count": null,
   "metadata": {},
   "outputs": [],
   "source": [
    "# print(a)"
   ]
  },
  {
   "cell_type": "code",
   "execution_count": null,
   "metadata": {},
   "outputs": [],
   "source": [
    "with open(f\"file_{y[index]}.mif\", 'w') as f:\n",
    "    with open(\"weights_bias.mif\") as w:\n",
    "        for e in a:\n",
    "            f.write(e)\n",
    "            f.write(\"\\n\")\n",
    "        \n",
    "        for i in range(784,1024):\n",
    "            f.write(\"00000000\\n\")\n",
    "        \n",
    "        l = w.readlines()\n",
    "        f.writelines(l)"
   ]
  }
 ],
 "metadata": {
  "kernelspec": {
   "display_name": "Python 3.10.4 64-bit",
   "language": "python",
   "name": "python3"
  },
  "language_info": {
   "codemirror_mode": {
    "name": "ipython",
    "version": 3
   },
   "file_extension": ".py",
   "mimetype": "text/x-python",
   "name": "python",
   "nbconvert_exporter": "python",
   "pygments_lexer": "ipython3",
   "version": "3.10.4"
  },
  "orig_nbformat": 4,
  "vscode": {
   "interpreter": {
    "hash": "369f2c481f4da34e4445cda3fffd2e751bd1c4d706f27375911949ba6bb62e1c"
   }
  }
 },
 "nbformat": 4,
 "nbformat_minor": 2
}
